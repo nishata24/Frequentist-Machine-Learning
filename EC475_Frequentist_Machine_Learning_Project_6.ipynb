{
  "nbformat": 4,
  "nbformat_minor": 0,
  "metadata": {
    "colab": {
      "provenance": []
    },
    "kernelspec": {
      "name": "python3",
      "display_name": "Python 3"
    },
    "language_info": {
      "name": "python"
    }
  },
  "cells": [
    {
      "cell_type": "code",
      "execution_count": 1,
      "metadata": {
        "id": "Dg9OlfGbDjU_"
      },
      "outputs": [],
      "source": [
        "# Seyun Kim, Lucia Rhode, Nishat Ahmed\n",
        "# Not including the stretch goal"
      ]
    },
    {
      "cell_type": "code",
      "source": [
        "!pip install scikit-surprise"
      ],
      "metadata": {
        "colab": {
          "base_uri": "https://localhost:8080/"
        },
        "id": "_AKWPIj1Ec5K",
        "outputId": "7f5be5e4-aff5-4557-fe26-0072dfffe910"
      },
      "execution_count": 3,
      "outputs": [
        {
          "output_type": "stream",
          "name": "stdout",
          "text": [
            "Looking in indexes: https://pypi.org/simple, https://us-python.pkg.dev/colab-wheels/public/simple/\n",
            "Collecting scikit-surprise\n",
            "  Downloading scikit-surprise-1.1.3.tar.gz (771 kB)\n",
            "\u001b[K     |████████████████████████████████| 771 kB 5.3 MB/s \n",
            "\u001b[?25hRequirement already satisfied: joblib>=1.0.0 in /usr/local/lib/python3.8/dist-packages (from scikit-surprise) (1.2.0)\n",
            "Requirement already satisfied: numpy>=1.17.3 in /usr/local/lib/python3.8/dist-packages (from scikit-surprise) (1.21.6)\n",
            "Requirement already satisfied: scipy>=1.3.2 in /usr/local/lib/python3.8/dist-packages (from scikit-surprise) (1.7.3)\n",
            "Building wheels for collected packages: scikit-surprise\n",
            "  Building wheel for scikit-surprise (setup.py) ... \u001b[?25l\u001b[?25hdone\n",
            "  Created wheel for scikit-surprise: filename=scikit_surprise-1.1.3-cp38-cp38-linux_x86_64.whl size=2626468 sha256=36c2ee0f3dcdfd8627fd124ffbfe60bc2546bd8597f72c2241f50b0a01c977a3\n",
            "  Stored in directory: /root/.cache/pip/wheels/af/db/86/2c18183a80ba05da35bf0fb7417aac5cddbd93bcb1b92fd3ea\n",
            "Successfully built scikit-surprise\n",
            "Installing collected packages: scikit-surprise\n",
            "Successfully installed scikit-surprise-1.1.3\n"
          ]
        }
      ]
    },
    {
      "cell_type": "code",
      "source": [
        "import pandas as pd\n",
        "from surprise import Dataset\n",
        "from surprise import Reader\n",
        "from surprise import Dataset, NMF\n",
        "from surprise.model_selection import GridSearchCV\n",
        "import numpy as np\n",
        "\n",
        "data_path = \"./ml-latest-small\"\n",
        "\n",
        "ratings = pd.read_csv(f'ratings.csv', sep=',')\n",
        "\n",
        "reader = Reader(rating_scale=(1, 5))\n",
        "\n",
        "user = ratings[\"userId\"]\n",
        "movie = ratings[\"movieId\"]\n",
        "rating = ratings[\"rating\"]\n",
        "\n",
        "movielens = {\n",
        "    \"user\": user,\n",
        "    \"movie\": movie,\n",
        "    \"rating\": rating\n",
        "}\n",
        "\n",
        "df = pd.DataFrame(movielens)\n",
        "\n",
        "# Loads Pandas dataframe\n",
        "data = Dataset.load_from_df(df[[\"user\", \"movie\", \"rating\"]], reader)\n",
        "\n",
        "# Loads the builtin Movielens-100k data\n",
        "movielens = Dataset.load_builtin('ml-100k')\n",
        "\n",
        "param_grid = {\"n_epochs\": [5, 10], \"n_factors\": [5, 10], \"biased\":[True], \n",
        "                \"reg_pu\":[0.1, 0.06], \"reg_qi\":[0.06, 0.1]}\n",
        "gs = GridSearchCV(NMF, param_grid, measures=[\"rmse\", \"mae\"], cv=4)\n",
        "\n",
        "gs.fit(data)\n",
        "\n",
        "# best RMSE score\n",
        "print(gs.best_score[\"rmse\"])\n",
        "\n",
        "# combination of parameters that gave the best RMSE score\n",
        "print(\"------Optimal Parameters-------\")\n",
        "print(gs.best_params[\"rmse\"])\n",
        "\n",
        "algo = gs.best_estimator[\"rmse\"]\n",
        "algo.fit(movielens.build_full_trainset())\n",
        "pred = algo.predict(1,1,4)\n",
        "print(pred)"
      ],
      "metadata": {
        "colab": {
          "base_uri": "https://localhost:8080/"
        },
        "id": "a0LELfwODwAB",
        "outputId": "7f2af186-e187-4a5a-b0bb-24e0d4a61f6e"
      },
      "execution_count": 6,
      "outputs": [
        {
          "output_type": "stream",
          "name": "stdout",
          "text": [
            "Dataset ml-100k could not be found. Do you want to download it? [Y/n] y\n",
            "Trying to download dataset from https://files.grouplens.org/datasets/movielens/ml-100k.zip...\n",
            "Done! Dataset ml-100k has been saved to /root/.surprise_data/ml-100k\n",
            "0.8785034002638769\n",
            "------Optimal Parameters-------\n",
            "{'n_epochs': 10, 'n_factors': 5, 'biased': True, 'reg_pu': 0.1, 'reg_qi': 0.1}\n",
            "user: 1          item: 1          r_ui = 4.00   est = 3.53   {'was_impossible': False}\n"
          ]
        }
      ]
    }
  ]
}