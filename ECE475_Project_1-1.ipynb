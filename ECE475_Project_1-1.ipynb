{
  "cells": [
    {
      "cell_type": "markdown",
      "metadata": {
        "id": "EUJS-DgumgMO"
      },
      "source": [
        "**Seyun Kim, Lucia Rhode, Nishat Ahmed**\n",
        "\n",
        "ECE475 Frequentist Machine Learning Project 1"
      ]
    },
    {
      "cell_type": "markdown",
      "metadata": {
        "id": "6SWc-GqlpC8t"
      },
      "source": [
        "**Part 1**"
      ]
    },
    {
      "cell_type": "code",
      "execution_count": 1,
      "metadata": {
        "id": "KGTVDIAf9SUm"
      },
      "outputs": [],
      "source": [
        "import sys\n",
        "\n",
        "import numpy as np\n",
        "import sklearn\n",
        "import pandas as pd\n",
        "import matplotlib.pyplot as plt\n",
        "from tabulate import tabulate\n",
        "from scipy.stats import pearsonr\n",
        "\n",
        "from sklearn.metrics import mean_squared_error\n",
        "from sklearn.model_selection import train_test_split\n",
        "from sklearn import linear_model"
      ]
    },
    {
      "cell_type": "code",
      "execution_count": 2,
      "metadata": {
        "colab": {
          "base_uri": "https://localhost:8080/",
          "height": 74
        },
        "id": "J5TKkFN1xOmt",
        "outputId": "9ba03d13-fffe-4684-ca2f-c4cede9bc833"
      },
      "outputs": [
        {
          "output_type": "display_data",
          "data": {
            "text/plain": [
              "<IPython.core.display.HTML object>"
            ],
            "text/html": [
              "\n",
              "     <input type=\"file\" id=\"files-0d168db9-1ac8-41f4-9c30-0d3391455c60\" name=\"files[]\" multiple disabled\n",
              "        style=\"border:none\" />\n",
              "     <output id=\"result-0d168db9-1ac8-41f4-9c30-0d3391455c60\">\n",
              "      Upload widget is only available when the cell has been executed in the\n",
              "      current browser session. Please rerun this cell to enable.\n",
              "      </output>\n",
              "      <script>// Copyright 2017 Google LLC\n",
              "//\n",
              "// Licensed under the Apache License, Version 2.0 (the \"License\");\n",
              "// you may not use this file except in compliance with the License.\n",
              "// You may obtain a copy of the License at\n",
              "//\n",
              "//      http://www.apache.org/licenses/LICENSE-2.0\n",
              "//\n",
              "// Unless required by applicable law or agreed to in writing, software\n",
              "// distributed under the License is distributed on an \"AS IS\" BASIS,\n",
              "// WITHOUT WARRANTIES OR CONDITIONS OF ANY KIND, either express or implied.\n",
              "// See the License for the specific language governing permissions and\n",
              "// limitations under the License.\n",
              "\n",
              "/**\n",
              " * @fileoverview Helpers for google.colab Python module.\n",
              " */\n",
              "(function(scope) {\n",
              "function span(text, styleAttributes = {}) {\n",
              "  const element = document.createElement('span');\n",
              "  element.textContent = text;\n",
              "  for (const key of Object.keys(styleAttributes)) {\n",
              "    element.style[key] = styleAttributes[key];\n",
              "  }\n",
              "  return element;\n",
              "}\n",
              "\n",
              "// Max number of bytes which will be uploaded at a time.\n",
              "const MAX_PAYLOAD_SIZE = 100 * 1024;\n",
              "\n",
              "function _uploadFiles(inputId, outputId) {\n",
              "  const steps = uploadFilesStep(inputId, outputId);\n",
              "  const outputElement = document.getElementById(outputId);\n",
              "  // Cache steps on the outputElement to make it available for the next call\n",
              "  // to uploadFilesContinue from Python.\n",
              "  outputElement.steps = steps;\n",
              "\n",
              "  return _uploadFilesContinue(outputId);\n",
              "}\n",
              "\n",
              "// This is roughly an async generator (not supported in the browser yet),\n",
              "// where there are multiple asynchronous steps and the Python side is going\n",
              "// to poll for completion of each step.\n",
              "// This uses a Promise to block the python side on completion of each step,\n",
              "// then passes the result of the previous step as the input to the next step.\n",
              "function _uploadFilesContinue(outputId) {\n",
              "  const outputElement = document.getElementById(outputId);\n",
              "  const steps = outputElement.steps;\n",
              "\n",
              "  const next = steps.next(outputElement.lastPromiseValue);\n",
              "  return Promise.resolve(next.value.promise).then((value) => {\n",
              "    // Cache the last promise value to make it available to the next\n",
              "    // step of the generator.\n",
              "    outputElement.lastPromiseValue = value;\n",
              "    return next.value.response;\n",
              "  });\n",
              "}\n",
              "\n",
              "/**\n",
              " * Generator function which is called between each async step of the upload\n",
              " * process.\n",
              " * @param {string} inputId Element ID of the input file picker element.\n",
              " * @param {string} outputId Element ID of the output display.\n",
              " * @return {!Iterable<!Object>} Iterable of next steps.\n",
              " */\n",
              "function* uploadFilesStep(inputId, outputId) {\n",
              "  const inputElement = document.getElementById(inputId);\n",
              "  inputElement.disabled = false;\n",
              "\n",
              "  const outputElement = document.getElementById(outputId);\n",
              "  outputElement.innerHTML = '';\n",
              "\n",
              "  const pickedPromise = new Promise((resolve) => {\n",
              "    inputElement.addEventListener('change', (e) => {\n",
              "      resolve(e.target.files);\n",
              "    });\n",
              "  });\n",
              "\n",
              "  const cancel = document.createElement('button');\n",
              "  inputElement.parentElement.appendChild(cancel);\n",
              "  cancel.textContent = 'Cancel upload';\n",
              "  const cancelPromise = new Promise((resolve) => {\n",
              "    cancel.onclick = () => {\n",
              "      resolve(null);\n",
              "    };\n",
              "  });\n",
              "\n",
              "  // Wait for the user to pick the files.\n",
              "  const files = yield {\n",
              "    promise: Promise.race([pickedPromise, cancelPromise]),\n",
              "    response: {\n",
              "      action: 'starting',\n",
              "    }\n",
              "  };\n",
              "\n",
              "  cancel.remove();\n",
              "\n",
              "  // Disable the input element since further picks are not allowed.\n",
              "  inputElement.disabled = true;\n",
              "\n",
              "  if (!files) {\n",
              "    return {\n",
              "      response: {\n",
              "        action: 'complete',\n",
              "      }\n",
              "    };\n",
              "  }\n",
              "\n",
              "  for (const file of files) {\n",
              "    const li = document.createElement('li');\n",
              "    li.append(span(file.name, {fontWeight: 'bold'}));\n",
              "    li.append(span(\n",
              "        `(${file.type || 'n/a'}) - ${file.size} bytes, ` +\n",
              "        `last modified: ${\n",
              "            file.lastModifiedDate ? file.lastModifiedDate.toLocaleDateString() :\n",
              "                                    'n/a'} - `));\n",
              "    const percent = span('0% done');\n",
              "    li.appendChild(percent);\n",
              "\n",
              "    outputElement.appendChild(li);\n",
              "\n",
              "    const fileDataPromise = new Promise((resolve) => {\n",
              "      const reader = new FileReader();\n",
              "      reader.onload = (e) => {\n",
              "        resolve(e.target.result);\n",
              "      };\n",
              "      reader.readAsArrayBuffer(file);\n",
              "    });\n",
              "    // Wait for the data to be ready.\n",
              "    let fileData = yield {\n",
              "      promise: fileDataPromise,\n",
              "      response: {\n",
              "        action: 'continue',\n",
              "      }\n",
              "    };\n",
              "\n",
              "    // Use a chunked sending to avoid message size limits. See b/62115660.\n",
              "    let position = 0;\n",
              "    do {\n",
              "      const length = Math.min(fileData.byteLength - position, MAX_PAYLOAD_SIZE);\n",
              "      const chunk = new Uint8Array(fileData, position, length);\n",
              "      position += length;\n",
              "\n",
              "      const base64 = btoa(String.fromCharCode.apply(null, chunk));\n",
              "      yield {\n",
              "        response: {\n",
              "          action: 'append',\n",
              "          file: file.name,\n",
              "          data: base64,\n",
              "        },\n",
              "      };\n",
              "\n",
              "      let percentDone = fileData.byteLength === 0 ?\n",
              "          100 :\n",
              "          Math.round((position / fileData.byteLength) * 100);\n",
              "      percent.textContent = `${percentDone}% done`;\n",
              "\n",
              "    } while (position < fileData.byteLength);\n",
              "  }\n",
              "\n",
              "  // All done.\n",
              "  yield {\n",
              "    response: {\n",
              "      action: 'complete',\n",
              "    }\n",
              "  };\n",
              "}\n",
              "\n",
              "scope.google = scope.google || {};\n",
              "scope.google.colab = scope.google.colab || {};\n",
              "scope.google.colab._files = {\n",
              "  _uploadFiles,\n",
              "  _uploadFilesContinue,\n",
              "};\n",
              "})(self);\n",
              "</script> "
            ]
          },
          "metadata": {}
        },
        {
          "output_type": "stream",
          "name": "stdout",
          "text": [
            "Saving prostate_data.csv to prostate_data (4).csv\n"
          ]
        }
      ],
      "source": [
        "from google.colab import files\n",
        "data_file = files.upload()\n",
        "\n"
      ]
    },
    {
      "cell_type": "code",
      "execution_count": 3,
      "metadata": {
        "id": "3MdPd5DbxWRB"
      },
      "outputs": [],
      "source": [
        "import io\n",
        "data = pd.read_csv(io.BytesIO(data_file['prostate_data.csv']), index_col=0)"
      ]
    },
    {
      "cell_type": "code",
      "execution_count": 4,
      "metadata": {
        "id": "pfXoMESmYneG"
      },
      "outputs": [],
      "source": [
        "# Import data, convert to numpy arrays, and preprocess string ground truth to ints\n",
        "\n",
        "feature_names = [\"Intercept\"] + [d for d in data.columns if d != 'train' and d != 'lpsa']\n",
        "\n",
        "train_data = np.concatenate((np.ones((data.shape[0],1)), data[list(col for col in data.columns if col != 'train' and col != 'lpsa')].to_numpy()), axis=1)\n",
        "test_data = data['lpsa'].to_numpy().reshape((len(data),1))\n"
      ]
    },
    {
      "cell_type": "code",
      "execution_count": 5,
      "metadata": {
        "colab": {
          "base_uri": "https://localhost:8080/"
        },
        "id": "JDdMcPE3y-f1",
        "outputId": "a95682fe-96be-43bf-ac87-7b9ee5a4ecd6"
      },
      "outputs": [
        {
          "output_type": "execute_result",
          "data": {
            "text/plain": [
              "['Intercept',\n",
              " 'lcavol',\n",
              " 'lweight',\n",
              " 'age',\n",
              " 'lbph',\n",
              " 'svi',\n",
              " 'lcp',\n",
              " 'gleason',\n",
              " 'pgg45']"
            ]
          },
          "metadata": {},
          "execution_count": 5
        }
      ],
      "source": [
        "feature_names"
      ]
    },
    {
      "cell_type": "code",
      "execution_count": 6,
      "metadata": {
        "id": "zUmGShsoAplr"
      },
      "outputs": [],
      "source": [
        "# Normalize train data\n",
        "def normalize(x, mean, std):\n",
        "  for i in range(1, x.shape[1]):\n",
        "    #x[:,i] = (x[:,i] - np.mean(x_train[:,i])) / (np.std(x_train[:,i]) + 1e-5)\n",
        "    x[:,i] = (x[:,i] - mean[i]) / (std[i] + 1e-5)\n",
        "  return x"
      ]
    },
    {
      "cell_type": "code",
      "execution_count": 7,
      "metadata": {
        "id": "GPMjaFALZPP9"
      },
      "outputs": [],
      "source": [
        "# Split data\n",
        "# train, val, test size : 97, 11, 11\n",
        "x_train, x_test, y_train, y_test= train_test_split(train_data, test_data, test_size=0.2)\n",
        "x_val, x_test, y_val, y_test = train_test_split(x_test, y_test, test_size = 0.5)\n"
      ]
    },
    {
      "cell_type": "code",
      "execution_count": 8,
      "metadata": {
        "id": "8VqEvNaRDOQk"
      },
      "outputs": [],
      "source": [
        "# Normalize train, validation, and test features\n",
        "x_train_mean = np.zeros(x_train.shape[1])\n",
        "x_train_std = np.zeros(x_train.shape[1])\n",
        "for i in range(1, x_train.shape[1]):\n",
        "  x_train_mean[i] = np.mean(x_train[:,i])\n",
        "  x_train_std[i] = np.std(x_train[:,i])\n",
        "\n",
        "x_train = normalize(x_train, x_train_mean, x_train_std)\n",
        "x_val = normalize(x_val, x_train_mean, x_train_std)\n",
        "x_test = normalize(x_test, x_train_mean, x_train_std)"
      ]
    },
    {
      "cell_type": "code",
      "execution_count": 9,
      "metadata": {
        "id": "NjAKXUyXVg-J"
      },
      "outputs": [],
      "source": [
        "def beta_hat_func(x, y):\n",
        "  term1 = np.matmul(np.linalg.inv(np.matmul(np.transpose(x), x)), np.transpose(x))\n",
        "\n",
        "  return np.matmul(term1, y)"
      ]
    },
    {
      "cell_type": "code",
      "execution_count": 10,
      "metadata": {
        "id": "QCfBT-x-W3CP"
      },
      "outputs": [],
      "source": [
        "def error(x, y, beta):\n",
        "  y_hat = np.matmul(x, beta)\n",
        "  rss = np.matmul(np.transpose(y - y_hat), y - y_hat)\n",
        "  return rss"
      ]
    },
    {
      "cell_type": "code",
      "execution_count": 11,
      "metadata": {
        "id": "f7ty_QCBT-a8"
      },
      "outputs": [],
      "source": [
        "beta_hat = beta_hat_func(x_train, y_train)"
      ]
    },
    {
      "cell_type": "code",
      "execution_count": 12,
      "metadata": {
        "colab": {
          "base_uri": "https://localhost:8080/"
        },
        "id": "fQBzBJweWdCi",
        "outputId": "e3eb3db1-3fe9-4efb-f011-7eb60d7dc4b1"
      },
      "outputs": [
        {
          "output_type": "stream",
          "name": "stdout",
          "text": [
            "Mean squared error on training set:  0.42054657698467385\n",
            "Mean squared error on test set:  0.45976766929164575\n"
          ]
        }
      ],
      "source": [
        "# Report train vs test error\n",
        "y_hat = np.matmul(x_train, beta_hat)\n",
        "mse_plain = mean_squared_error(y_hat, y_train)\n",
        "\n",
        "print(\"Mean squared error on training set: \", mse_plain)\n",
        "\n",
        "# Report test error\n",
        "y_hat = np.matmul(x_test, beta_hat)\n",
        "mse_plain = mean_squared_error(y_hat, y_test)\n",
        "\n",
        "print(\"Mean squared error on test set: \", mse_plain)"
      ]
    },
    {
      "cell_type": "markdown",
      "source": [
        "Mean squared error on training set is 0.42054657698467385 and Mean squared error on test set is 0.45976766929164575. MSE on test is slightly higher than train MSE and errors are generally low so this is good."
      ],
      "metadata": {
        "id": "ZLDNBylktI9q"
      }
    },
    {
      "cell_type": "code",
      "execution_count": 13,
      "metadata": {
        "colab": {
          "base_uri": "https://localhost:8080/"
        },
        "id": "OIX7d5kzeyDG",
        "outputId": "d59179ce-8cfc-44dd-f174-fa79cb7e357a"
      },
      "outputs": [
        {
          "output_type": "stream",
          "name": "stdout",
          "text": [
            "           lcavol    lweight    age    lbph    svi    lcp    gleason\n",
            "-------  --------  ---------  -----  ------  -----  -----  ---------\n",
            "lweight      0.26\n",
            "age          0.27       0.34\n",
            "lbph         0.04       0.42   0.34\n",
            "svi          0.48       0.11   0.06   -0.08\n",
            "lcp          0.58       0.13   0.15   -0.03   0.68\n",
            "gleason      0.39      -0.03   0.26    0.03   0.29   0.49\n",
            "pgg45        0.38       0.09   0.3     0.06   0.44   0.64       0.73\n"
          ]
        }
      ],
      "source": [
        "# Print Table 3.1. Correlations of predictors in the prostate cancer data\n",
        "table_31 = [[\"\"] + [feat for feat in feature_names[1:-1]]]\n",
        "for i in range(2, len(feature_names)): # row\n",
        "  temp = [feature_names[i]]\n",
        "  for j in range(1, i): # col\n",
        "    temp.append(str(np.round(pearsonr(x_train[:,i], x_train[:,j])[0], 2)))\n",
        "  table_31.append(temp)\n",
        "\n",
        "print(tabulate(table_31, headers='firstrow'))"
      ]
    },
    {
      "cell_type": "markdown",
      "source": [
        "This table shows the correlation between every two variables and the values seem to agree with what's on the textbook.\n",
        "\n"
      ],
      "metadata": {
        "id": "qEOWcyWxqde4"
      }
    },
    {
      "cell_type": "code",
      "execution_count": 14,
      "metadata": {
        "id": "zhguWdL84mCL"
      },
      "outputs": [],
      "source": [
        "# Compute z score\n",
        "z_score = [0.0 for _ in range(len(feature_names))]\n",
        "x_squared = np.linalg.inv(np.matmul(np.transpose(x_train), x_train))\n",
        "N = x_train.shape[0]\n",
        "p = x_train.shape[1]\n",
        "var = 1/(N-p-1)*np.sum((y_test - y_hat)**2)\n",
        "stdev = np.sqrt(var)\n",
        "\n",
        "beta_hat = beta_hat.reshape(9)\n",
        "\n",
        "std_error = [0 for _ in range(len(feature_names))]\n",
        "# for i in range(len(std_error)):\n",
        "#   std_error[i] = np.round(np.std(x_train[:,i]) / len(x_train), 2)\n",
        "\n",
        "for i in range(len(z_score)):\n",
        "  z_score[i] = np.round(beta_hat[i] / (stdev*np.sqrt(x_squared[i, i])), 2)  \n"
      ]
    },
    {
      "cell_type": "code",
      "execution_count": 15,
      "metadata": {
        "colab": {
          "base_uri": "https://localhost:8080/"
        },
        "id": "BFTBcLYUYJ_w",
        "outputId": "41594238-dc8d-42d9-f048-07d8542a5e7e"
      },
      "outputs": [
        {
          "output_type": "stream",
          "name": "stdout",
          "text": [
            "Term         Coefficient    Std Error    Z Score\n",
            "---------  -------------  -----------  ---------\n",
            "Intercept      2.40836           0         80.67\n",
            "lcavol         0.585789          0.01      14.8\n",
            "lweight        0.259669          0.01       7.27\n",
            "age           -0.184649          0.09      -5.29\n",
            "lbph           0.18624           0.02       5.42\n",
            "svi            0.284523          0          6.8\n",
            "lcp           -0.104982          0.02      -2.08\n",
            "gleason        0.0603081         0.01       1.32\n",
            "pgg45          0.139514          0.36       2.74\n"
          ]
        }
      ],
      "source": [
        "# Print table 3.2\n",
        "table = [[\"Term\", \"Coefficient\", \"Std Error\", \"Z Score\"]]\n",
        "for i in range(len(feature_names)):\n",
        "  table.append([feature_names[i], str(beta_hat[i]), str(np.round(x_train_std[i]/len(x_train),2)), str(z_score[i])])\n",
        "print(tabulate(table, headers='firstrow'))"
      ]
    },
    {
      "cell_type": "markdown",
      "source": [
        "This table shows the z score of each feature and the values seem to agree with what's on the textbook."
      ],
      "metadata": {
        "id": "xgMw-OmxqtSu"
      }
    },
    {
      "cell_type": "markdown",
      "metadata": {
        "id": "lAMuAp0u6wG1"
      },
      "source": [
        "2. Ridge Regression"
      ]
    },
    {
      "cell_type": "code",
      "execution_count": 16,
      "metadata": {
        "id": "MxxyTB5h2bbP"
      },
      "outputs": [],
      "source": [
        "def beta_hat_ridge(x, y, lamb):\n",
        "  num = x.shape[1]\n",
        "  term1 = np.linalg.inv(np.matmul(np.transpose(x), x) + lamb * np.eye(num))\n",
        "  return np.matmul(np.matmul(term1, np.transpose(x)), y)"
      ]
    },
    {
      "cell_type": "code",
      "execution_count": 17,
      "metadata": {
        "id": "xoT5gfSl3FvH"
      },
      "outputs": [],
      "source": [
        "def rss_ridge(x, y, beta, lamb):\n",
        "  term1 = np.transpose(y - np.matmul(x, beta))\n",
        "  term2 = y - np.matmul(x, beta)\n",
        "  return np.matmul(term1, term2) + lamb*np.matmul(np.transpose(beta), beta)"
      ]
    },
    {
      "cell_type": "code",
      "execution_count": 18,
      "metadata": {
        "id": "hueTGaiT18WC"
      },
      "outputs": [],
      "source": [
        "lambdas = list(np.logspace(-10, 3))\n",
        "\n",
        "coefficients = np.zeros((x_train.shape[1], len(lambdas)))\n",
        "min_lambda = 0\n",
        "min_rss_ridge = sys.float_info.max\n",
        "min_beta_ridge = 0\n",
        "\n",
        "for i, lamb in enumerate(lambdas):\n",
        "  beta_ridge_lamb = beta_hat_ridge(x_train, y_train, lamb)\n",
        "  rss_ridge_lamb = rss_ridge(x_val, y_val, beta_ridge_lamb, lamb)\n",
        "  coefficients[:, i] = np.transpose(beta_ridge_lamb)\n",
        "\n",
        "  # Pick lambda that makes RSS_ridge the smallest\n",
        "  if rss_ridge_lamb < min_rss_ridge:\n",
        "    min_rss_ridge = rss_ridge_lamb\n",
        "    min_lambda = lamb\n",
        "    min_beta_ridge = beta_ridge_lamb\n"
      ]
    },
    {
      "cell_type": "code",
      "execution_count": 19,
      "metadata": {
        "colab": {
          "base_uri": "https://localhost:8080/"
        },
        "id": "o5A_ysV54rRK",
        "outputId": "cf5140bf-bbb0-48b8-f8f9-b384a3caeca4"
      },
      "outputs": [
        {
          "output_type": "stream",
          "name": "stdout",
          "text": [
            "MSE of Ridge Regression on training set:  0.4205465769846739\n",
            "MSE of Ridge Regression on test set:  0.45976766929193646\n"
          ]
        }
      ],
      "source": [
        "# Report train vs test error from Ridge Regression\n",
        "y_hat = np.matmul(x_train, min_beta_ridge) \n",
        "mse_ridge = mean_squared_error(y_train, y_hat)\n",
        "\n",
        "print(\"MSE of Ridge Regression on training set: \", mse_ridge)\n",
        "\n",
        "# Report train vs test error from Ridge Regression\n",
        "y_hat = np.matmul(x_test, min_beta_ridge) \n",
        "mse_ridge = mean_squared_error(y_test, y_hat)\n",
        "\n",
        "print(\"MSE of Ridge Regression on test set: \", mse_ridge)"
      ]
    },
    {
      "cell_type": "markdown",
      "metadata": {
        "id": "MKnqDAihJ_F6"
      },
      "source": [
        "For ridge regression, the mean squared error is also higher on the test set than the training set. "
      ]
    },
    {
      "cell_type": "code",
      "execution_count": 20,
      "metadata": {
        "colab": {
          "base_uri": "https://localhost:8080/",
          "height": 295
        },
        "id": "igUafmAF9lMK",
        "outputId": "009a03b5-d8ea-4975-9699-56f7f223ddbf"
      },
      "outputs": [
        {
          "output_type": "display_data",
          "data": {
            "text/plain": [
              "<Figure size 432x288 with 1 Axes>"
            ],
            "image/png": "[encoded data removed]"
          },
          "metadata": {
            "needs_background": "light"
          }
        }
      ],
      "source": [
        "# Plot of ridge coefficients against lambda\n",
        "\n",
        "ax=plt.gca()\n",
        "for i in range(1, len(coefficients)):\n",
        "  ax.plot(lambdas, coefficients[i, :], label=str(feature_names[i]))\n",
        "plt.axvline(x = min_lambda, color = 'b', label = 'best lambda')\n",
        "ax.legend(loc='center left', bbox_to_anchor=(1, 0.5))\n",
        "ax.invert_xaxis()\n",
        "\n",
        "plt.xlabel(\"lambda\")\n",
        "plt.ylabel(\"coefficients\")\n",
        "plt.title(\"Plot of ridge coefficients with varying lambda\")\n",
        "plt.show()"
      ]
    },
    {
      "cell_type": "markdown",
      "metadata": {
        "id": "PwmjPh8JMm_g"
      },
      "source": [
        "3. Lasso Regression"
      ]
    },
    {
      "cell_type": "code",
      "execution_count": 21,
      "metadata": {
        "id": "S6iH0fVVMmMe"
      },
      "outputs": [],
      "source": [
        "lambdas = list(np.logspace(-8, 0.01))\n",
        "# lambdas = [0.00001, 0.0001, 0.0005, 0.001, 0.01, 0.1, 1.0, 10]\n",
        "# lambdas = [1e-8, 1e-7, 1e-6, 0.00001, 0.0001, 1e-2, 0.1, 1]\n",
        "\n",
        "min_lambda_lasso = 0\n",
        "min_mse_lasso = sys.float_info.max\n",
        "models = []\n",
        "coefficients_lasso = np.zeros((x_train.shape[1], len(lambdas)))\n",
        "\n",
        "for i, lamb in enumerate(lambdas):\n",
        "  lasso_model = linear_model.Lasso(alpha=lamb)\n",
        "  lasso_model.fit(x_train, y_train)\n",
        "  coefficients_lasso[:, i] = np.transpose(lasso_model.coef_) # bad practice?\n",
        "  mse_lasso = mean_squared_error(lasso_model.predict(x_val), y_val) \n",
        "  if mse_lasso < min_mse_lasso:\n",
        "    min_lambda_lasso = lamb\n",
        "    min_mse_lasso = mse_lasso\n",
        "    models.append(lasso_model)"
      ]
    },
    {
      "cell_type": "code",
      "execution_count": 22,
      "metadata": {
        "colab": {
          "base_uri": "https://localhost:8080/"
        },
        "id": "1ASb84oC3Hwv",
        "outputId": "7c588bab-d129-46d7-e6dc-b4f04dd698dc"
      },
      "outputs": [
        {
          "output_type": "stream",
          "name": "stdout",
          "text": [
            "MSE of Lasso Regression on training set: 0.42054657698467585\n",
            "MSE of Lasso Regression on test set: 0.4597676768734785\n"
          ]
        }
      ],
      "source": [
        "lasso_model_test = models[0]\n",
        "\n",
        "y_hat = lasso_model_test.predict(x_train)\n",
        "mse_lasso = mean_squared_error(y_hat, y_train)\n",
        "\n",
        "print(\"MSE of Lasso Regression on training set: \" + str(mse_lasso))\n",
        "\n",
        "y_hat = lasso_model_test.predict(x_test)\n",
        "mse_lasso = mean_squared_error(y_hat, y_test)\n",
        "\n",
        "print(\"MSE of Lasso Regression on test set: \" + str(mse_lasso))"
      ]
    },
    {
      "cell_type": "markdown",
      "metadata": {
        "id": "31LWQrpDLH8l"
      },
      "source": [
        "For lasso regression, the mean squared error is also higher on the test set than the training set."
      ]
    },
    {
      "cell_type": "code",
      "execution_count": 23,
      "metadata": {
        "colab": {
          "base_uri": "https://localhost:8080/",
          "height": 295
        },
        "id": "hbaPxW76MIDQ",
        "outputId": "ba089b7d-8e0a-4c13-b413-a5c8bdd60524"
      },
      "outputs": [
        {
          "output_type": "display_data",
          "data": {
            "text/plain": [
              "<Figure size 432x288 with 1 Axes>"
            ],
            "image/png": "[encoded data removed]"
          },
          "metadata": {
            "needs_background": "light"
          }
        }
      ],
      "source": [
        "# Plot Lasso coefficients\n",
        "ax=plt.gca()\n",
        "for i in range(len(feature_names)):\n",
        "  plt.plot(lambdas, coefficients_lasso[i,:], label=feature_names[i])\n",
        "plt.axvline(x = min_lambda_lasso, color = 'b', label = 'best lambda')\n",
        "ax.invert_xaxis()\n",
        "plt.legend(loc='center left', bbox_to_anchor=(1, 0.5))\n",
        "plt.xlabel(\"Lasso lambda\")\n",
        "plt.ylabel(\"Lasso coefficients\")\n",
        "plt.title(\"Plot of Lasso coefficients with varying lambda\")\n",
        "plt.show()"
      ]
    },
    {
      "cell_type": "markdown",
      "metadata": {
        "id": "uHts6zVQpFUM"
      },
      "source": [
        "**Part 2**\n",
        "\n",
        "Dataset from: https://www.kaggle.com/datasets/quantbruce/real-estate-price-prediction"
      ]
    },
    {
      "cell_type": "code",
      "execution_count": 24,
      "metadata": {
        "colab": {
          "base_uri": "https://localhost:8080/",
          "height": 74
        },
        "id": "1zJTJKGm7qaj",
        "outputId": "40541d8c-c2c0-4655-97da-0527ff8d48be"
      },
      "outputs": [
        {
          "output_type": "display_data",
          "data": {
            "text/plain": [
              "<IPython.core.display.HTML object>"
            ],
            "text/html": [
              "\n",
              "     <input type=\"file\" id=\"files-88397869-b1d3-467c-b49f-74bc396f7d38\" name=\"files[]\" multiple disabled\n",
              "        style=\"border:none\" />\n",
              "     <output id=\"result-88397869-b1d3-467c-b49f-74bc396f7d38\">\n",
              "      Upload widget is only available when the cell has been executed in the\n",
              "      current browser session. Please rerun this cell to enable.\n",
              "      </output>\n",
              "      <script>// Copyright 2017 Google LLC\n",
              "//\n",
              "// Licensed under the Apache License, Version 2.0 (the \"License\");\n",
              "// you may not use this file except in compliance with the License.\n",
              "// You may obtain a copy of the License at\n",
              "//\n",
              "//      http://www.apache.org/licenses/LICENSE-2.0\n",
              "//\n",
              "// Unless required by applicable law or agreed to in writing, software\n",
              "// distributed under the License is distributed on an \"AS IS\" BASIS,\n",
              "// WITHOUT WARRANTIES OR CONDITIONS OF ANY KIND, either express or implied.\n",
              "// See the License for the specific language governing permissions and\n",
              "// limitations under the License.\n",
              "\n",
              "/**\n",
              " * @fileoverview Helpers for google.colab Python module.\n",
              " */\n",
              "(function(scope) {\n",
              "function span(text, styleAttributes = {}) {\n",
              "  const element = document.createElement('span');\n",
              "  element.textContent = text;\n",
              "  for (const key of Object.keys(styleAttributes)) {\n",
              "    element.style[key] = styleAttributes[key];\n",
              "  }\n",
              "  return element;\n",
              "}\n",
              "\n",
              "// Max number of bytes which will be uploaded at a time.\n",
              "const MAX_PAYLOAD_SIZE = 100 * 1024;\n",
              "\n",
              "function _uploadFiles(inputId, outputId) {\n",
              "  const steps = uploadFilesStep(inputId, outputId);\n",
              "  const outputElement = document.getElementById(outputId);\n",
              "  // Cache steps on the outputElement to make it available for the next call\n",
              "  // to uploadFilesContinue from Python.\n",
              "  outputElement.steps = steps;\n",
              "\n",
              "  return _uploadFilesContinue(outputId);\n",
              "}\n",
              "\n",
              "// This is roughly an async generator (not supported in the browser yet),\n",
              "// where there are multiple asynchronous steps and the Python side is going\n",
              "// to poll for completion of each step.\n",
              "// This uses a Promise to block the python side on completion of each step,\n",
              "// then passes the result of the previous step as the input to the next step.\n",
              "function _uploadFilesContinue(outputId) {\n",
              "  const outputElement = document.getElementById(outputId);\n",
              "  const steps = outputElement.steps;\n",
              "\n",
              "  const next = steps.next(outputElement.lastPromiseValue);\n",
              "  return Promise.resolve(next.value.promise).then((value) => {\n",
              "    // Cache the last promise value to make it available to the next\n",
              "    // step of the generator.\n",
              "    outputElement.lastPromiseValue = value;\n",
              "    return next.value.response;\n",
              "  });\n",
              "}\n",
              "\n",
              "/**\n",
              " * Generator function which is called between each async step of the upload\n",
              " * process.\n",
              " * @param {string} inputId Element ID of the input file picker element.\n",
              " * @param {string} outputId Element ID of the output display.\n",
              " * @return {!Iterable<!Object>} Iterable of next steps.\n",
              " */\n",
              "function* uploadFilesStep(inputId, outputId) {\n",
              "  const inputElement = document.getElementById(inputId);\n",
              "  inputElement.disabled = false;\n",
              "\n",
              "  const outputElement = document.getElementById(outputId);\n",
              "  outputElement.innerHTML = '';\n",
              "\n",
              "  const pickedPromise = new Promise((resolve) => {\n",
              "    inputElement.addEventListener('change', (e) => {\n",
              "      resolve(e.target.files);\n",
              "    });\n",
              "  });\n",
              "\n",
              "  const cancel = document.createElement('button');\n",
              "  inputElement.parentElement.appendChild(cancel);\n",
              "  cancel.textContent = 'Cancel upload';\n",
              "  const cancelPromise = new Promise((resolve) => {\n",
              "    cancel.onclick = () => {\n",
              "      resolve(null);\n",
              "    };\n",
              "  });\n",
              "\n",
              "  // Wait for the user to pick the files.\n",
              "  const files = yield {\n",
              "    promise: Promise.race([pickedPromise, cancelPromise]),\n",
              "    response: {\n",
              "      action: 'starting',\n",
              "    }\n",
              "  };\n",
              "\n",
              "  cancel.remove();\n",
              "\n",
              "  // Disable the input element since further picks are not allowed.\n",
              "  inputElement.disabled = true;\n",
              "\n",
              "  if (!files) {\n",
              "    return {\n",
              "      response: {\n",
              "        action: 'complete',\n",
              "      }\n",
              "    };\n",
              "  }\n",
              "\n",
              "  for (const file of files) {\n",
              "    const li = document.createElement('li');\n",
              "    li.append(span(file.name, {fontWeight: 'bold'}));\n",
              "    li.append(span(\n",
              "        `(${file.type || 'n/a'}) - ${file.size} bytes, ` +\n",
              "        `last modified: ${\n",
              "            file.lastModifiedDate ? file.lastModifiedDate.toLocaleDateString() :\n",
              "                                    'n/a'} - `));\n",
              "    const percent = span('0% done');\n",
              "    li.appendChild(percent);\n",
              "\n",
              "    outputElement.appendChild(li);\n",
              "\n",
              "    const fileDataPromise = new Promise((resolve) => {\n",
              "      const reader = new FileReader();\n",
              "      reader.onload = (e) => {\n",
              "        resolve(e.target.result);\n",
              "      };\n",
              "      reader.readAsArrayBuffer(file);\n",
              "    });\n",
              "    // Wait for the data to be ready.\n",
              "    let fileData = yield {\n",
              "      promise: fileDataPromise,\n",
              "      response: {\n",
              "        action: 'continue',\n",
              "      }\n",
              "    };\n",
              "\n",
              "    // Use a chunked sending to avoid message size limits. See b/62115660.\n",
              "    let position = 0;\n",
              "    do {\n",
              "      const length = Math.min(fileData.byteLength - position, MAX_PAYLOAD_SIZE);\n",
              "      const chunk = new Uint8Array(fileData, position, length);\n",
              "      position += length;\n",
              "\n",
              "      const base64 = btoa(String.fromCharCode.apply(null, chunk));\n",
              "      yield {\n",
              "        response: {\n",
              "          action: 'append',\n",
              "          file: file.name,\n",
              "          data: base64,\n",
              "        },\n",
              "      };\n",
              "\n",
              "      let percentDone = fileData.byteLength === 0 ?\n",
              "          100 :\n",
              "          Math.round((position / fileData.byteLength) * 100);\n",
              "      percent.textContent = `${percentDone}% done`;\n",
              "\n",
              "    } while (position < fileData.byteLength);\n",
              "  }\n",
              "\n",
              "  // All done.\n",
              "  yield {\n",
              "    response: {\n",
              "      action: 'complete',\n",
              "    }\n",
              "  };\n",
              "}\n",
              "\n",
              "scope.google = scope.google || {};\n",
              "scope.google.colab = scope.google.colab || {};\n",
              "scope.google.colab._files = {\n",
              "  _uploadFiles,\n",
              "  _uploadFilesContinue,\n",
              "};\n",
              "})(self);\n",
              "</script> "
            ]
          },
          "metadata": {}
        },
        {
          "output_type": "stream",
          "name": "stdout",
          "text": [
            "Saving Real estate.csv to Real estate (4).csv\n"
          ]
        }
      ],
      "source": [
        "# Import data\n",
        "from google.colab import files\n",
        "uploaded = files.upload()"
      ]
    },
    {
      "cell_type": "code",
      "execution_count": 25,
      "metadata": {
        "id": "aqtZlTqK8HVm"
      },
      "outputs": [],
      "source": [
        "import io\n",
        "data2 = pd.read_csv(io.BytesIO(uploaded['Real estate.csv']), index_col=0)"
      ]
    },
    {
      "cell_type": "code",
      "execution_count": 26,
      "metadata": {
        "id": "rYRJOqX0_hBC"
      },
      "outputs": [],
      "source": [
        "features2 = ['intercept'] + [col for col in data2.columns if col != \"No\" and col != \"Y house price of unit area\"]"
      ]
    },
    {
      "cell_type": "code",
      "execution_count": 27,
      "metadata": {
        "colab": {
          "base_uri": "https://localhost:8080/",
          "height": 316
        },
        "id": "nssgmIjLSdbi",
        "outputId": "616ceba8-51ef-4c87-a5cc-2ba9b9da3f89"
      },
      "outputs": [
        {
          "output_type": "execute_result",
          "data": {
            "text/plain": [
              "                                        X1 transaction date  X2 house age  \\\n",
              "X1 transaction date                                1.000000      0.017549   \n",
              "X2 house age                                       0.017549      1.000000   \n",
              "X3 distance to the nearest MRT station             0.060880      0.025622   \n",
              "X4 number of convenience stores                    0.009635      0.049593   \n",
              "X5 latitude                                        0.035058      0.054420   \n",
              "X6 longitude                                      -0.041082     -0.048520   \n",
              "\n",
              "                                        X3 distance to the nearest MRT station  \\\n",
              "X1 transaction date                                                   0.060880   \n",
              "X2 house age                                                          0.025622   \n",
              "X3 distance to the nearest MRT station                                1.000000   \n",
              "X4 number of convenience stores                                      -0.602519   \n",
              "X5 latitude                                                          -0.591067   \n",
              "X6 longitude                                                         -0.806317   \n",
              "\n",
              "                                        X4 number of convenience stores  \\\n",
              "X1 transaction date                                            0.009635   \n",
              "X2 house age                                                   0.049593   \n",
              "X3 distance to the nearest MRT station                        -0.602519   \n",
              "X4 number of convenience stores                                1.000000   \n",
              "X5 latitude                                                    0.444143   \n",
              "X6 longitude                                                   0.449099   \n",
              "\n",
              "                                        X5 latitude  X6 longitude  \n",
              "X1 transaction date                        0.035058     -0.041082  \n",
              "X2 house age                               0.054420     -0.048520  \n",
              "X3 distance to the nearest MRT station    -0.591067     -0.806317  \n",
              "X4 number of convenience stores            0.444143      0.449099  \n",
              "X5 latitude                                1.000000      0.412924  \n",
              "X6 longitude                               0.412924      1.000000  "
            ],
            "text/html": [
              "\n",
              "  <div id=\"df-e5962159-8ce3-47e9-8f43-e7c6aa624413\">\n",
              "    <div class=\"colab-df-container\">\n",
              "      <div>\n",
              "<style scoped>\n",
              "    .dataframe tbody tr th:only-of-type {\n",
              "        vertical-align: middle;\n",
              "    }\n",
              "\n",
              "    .dataframe tbody tr th {\n",
              "        vertical-align: top;\n",
              "    }\n",
              "\n",
              "    .dataframe thead th {\n",
              "        text-align: right;\n",
              "    }\n",
              "</style>\n",
              "<table border=\"1\" class=\"dataframe\">\n",
              "  <thead>\n",
              "    <tr style=\"text-align: right;\">\n",
              "      <th></th>\n",
              "      <th>X1 transaction date</th>\n",
              "      <th>X2 house age</th>\n",
              "      <th>X3 distance to the nearest MRT station</th>\n",
              "      <th>X4 number of convenience stores</th>\n",
              "      <th>X5 latitude</th>\n",
              "      <th>X6 longitude</th>\n",
              "    </tr>\n",
              "  </thead>\n",
              "  <tbody>\n",
              "    <tr>\n",
              "      <th>X1 transaction date</th>\n",
              "      <td>1.000000</td>\n",
              "      <td>0.017549</td>\n",
              "      <td>0.060880</td>\n",
              "      <td>0.009635</td>\n",
              "      <td>0.035058</td>\n",
              "      <td>-0.041082</td>\n",
              "    </tr>\n",
              "    <tr>\n",
              "      <th>X2 house age</th>\n",
              "      <td>0.017549</td>\n",
              "      <td>1.000000</td>\n",
              "      <td>0.025622</td>\n",
              "      <td>0.049593</td>\n",
              "      <td>0.054420</td>\n",
              "      <td>-0.048520</td>\n",
              "    </tr>\n",
              "    <tr>\n",
              "      <th>X3 distance to the nearest MRT station</th>\n",
              "      <td>0.060880</td>\n",
              "      <td>0.025622</td>\n",
              "      <td>1.000000</td>\n",
              "      <td>-0.602519</td>\n",
              "      <td>-0.591067</td>\n",
              "      <td>-0.806317</td>\n",
              "    </tr>\n",
              "    <tr>\n",
              "      <th>X4 number of convenience stores</th>\n",
              "      <td>0.009635</td>\n",
              "      <td>0.049593</td>\n",
              "      <td>-0.602519</td>\n",
              "      <td>1.000000</td>\n",
              "      <td>0.444143</td>\n",
              "      <td>0.449099</td>\n",
              "    </tr>\n",
              "    <tr>\n",
              "      <th>X5 latitude</th>\n",
              "      <td>0.035058</td>\n",
              "      <td>0.054420</td>\n",
              "      <td>-0.591067</td>\n",
              "      <td>0.444143</td>\n",
              "      <td>1.000000</td>\n",
              "      <td>0.412924</td>\n",
              "    </tr>\n",
              "    <tr>\n",
              "      <th>X6 longitude</th>\n",
              "      <td>-0.041082</td>\n",
              "      <td>-0.048520</td>\n",
              "      <td>-0.806317</td>\n",
              "      <td>0.449099</td>\n",
              "      <td>0.412924</td>\n",
              "      <td>1.000000</td>\n",
              "    </tr>\n",
              "  </tbody>\n",
              "</table>\n",
              "</div>\n",
              "      <button class=\"colab-df-convert\" onclick=\"convertToInteractive('df-e5962159-8ce3-47e9-8f43-e7c6aa624413')\"\n",
              "              title=\"Convert this dataframe to an interactive table.\"\n",
              "              style=\"display:none;\">\n",
              "        \n",
              "  <svg xmlns=\"http://www.w3.org/2000/svg\" height=\"24px\"viewBox=\"0 0 24 24\"\n",
              "       width=\"24px\">\n",
              "    <path d=\"M0 0h24v24H0V0z\" fill=\"none\"/>\n",
              "    <path d=\"M18.56 5.44l.94 2.06.94-2.06 2.06-.94-2.06-.94-.94-2.06-.94 2.06-2.06.94zm-11 1L8.5 8.5l.94-2.06 2.06-.94-2.06-.94L8.5 2.5l-.94 2.06-2.06.94zm10 10l.94 2.06.94-2.06 2.06-.94-2.06-.94-.94-2.06-.94 2.06-2.06.94z\"/><path d=\"M17.41 7.96l-1.37-1.37c-.4-.4-.92-.59-1.43-.59-.52 0-1.04.2-1.43.59L10.3 9.45l-7.72 7.72c-.78.78-.78 2.05 0 2.83L4 21.41c.39.39.9.59 1.41.59.51 0 1.02-.2 1.41-.59l7.78-7.78 2.81-2.81c.8-.78.8-2.07 0-2.86zM5.41 20L4 18.59l7.72-7.72 1.47 1.35L5.41 20z\"/>\n",
              "  </svg>\n",
              "      </button>\n",
              "      \n",
              "  <style>\n",
              "    .colab-df-container {\n",
              "      display:flex;\n",
              "      flex-wrap:wrap;\n",
              "      gap: 12px;\n",
              "    }\n",
              "\n",
              "    .colab-df-convert {\n",
              "      background-color: #E8F0FE;\n",
              "      border: none;\n",
              "      border-radius: 50%;\n",
              "      cursor: pointer;\n",
              "      display: none;\n",
              "      fill: #1967D2;\n",
              "      height: 32px;\n",
              "      padding: 0 0 0 0;\n",
              "      width: 32px;\n",
              "    }\n",
              "\n",
              "    .colab-df-convert:hover {\n",
              "      background-color: #E2EBFA;\n",
              "      box-shadow: 0px 1px 2px rgba(60, 64, 67, 0.3), 0px 1px 3px 1px rgba(60, 64, 67, 0.15);\n",
              "      fill: #174EA6;\n",
              "    }\n",
              "\n",
              "    [theme=dark] .colab-df-convert {\n",
              "      background-color: #3B4455;\n",
              "      fill: #D2E3FC;\n",
              "    }\n",
              "\n",
              "    [theme=dark] .colab-df-convert:hover {\n",
              "      background-color: #434B5C;\n",
              "      box-shadow: 0px 1px 3px 1px rgba(0, 0, 0, 0.15);\n",
              "      filter: drop-shadow(0px 1px 2px rgba(0, 0, 0, 0.3));\n",
              "      fill: #FFFFFF;\n",
              "    }\n",
              "  </style>\n",
              "\n",
              "      <script>\n",
              "        const buttonEl =\n",
              "          document.querySelector('#df-e5962159-8ce3-47e9-8f43-e7c6aa624413 button.colab-df-convert');\n",
              "        buttonEl.style.display =\n",
              "          google.colab.kernel.accessAllowed ? 'block' : 'none';\n",
              "\n",
              "        async function convertToInteractive(key) {\n",
              "          const element = document.querySelector('#df-e5962159-8ce3-47e9-8f43-e7c6aa624413');\n",
              "          const dataTable =\n",
              "            await google.colab.kernel.invokeFunction('convertToInteractive',\n",
              "                                                     [key], {});\n",
              "          if (!dataTable) return;\n",
              "\n",
              "          const docLinkHtml = 'Like what you see? Visit the ' +\n",
              "            '<a target=\"_blank\" href=https://colab.research.google.com/notebooks/data_table.ipynb>data table notebook</a>'\n",
              "            + ' to learn more about interactive tables.';\n",
              "          element.innerHTML = '';\n",
              "          dataTable['output_type'] = 'display_data';\n",
              "          await google.colab.output.renderOutput(dataTable, element);\n",
              "          const docLink = document.createElement('div');\n",
              "          docLink.innerHTML = docLinkHtml;\n",
              "          element.appendChild(docLink);\n",
              "        }\n",
              "      </script>\n",
              "    </div>\n",
              "  </div>\n",
              "  "
            ]
          },
          "metadata": {},
          "execution_count": 27
        }
      ],
      "source": [
        "features2_corr = [col for col in data2.columns if col != \"No\" and col != \"Y house price of unit area\"]\n",
        "data2[features2_corr].corr()"
      ]
    },
    {
      "cell_type": "code",
      "execution_count": 28,
      "metadata": {
        "id": "WUQOj3A2-x-9"
      },
      "outputs": [],
      "source": [
        "# Separate target value from pandas dataframe\n",
        "data2_num = data2.shape[0]\n",
        "raw_train = data2[list(col for col in data2.columns if col != \"No\" and col != \"Y house price of unit area\")]\n",
        "train_data_2 = np.concatenate((np.ones((data2_num, 1)), raw_train.to_numpy()), axis=1)\n",
        "test_data_2 = data2['Y house price of unit area'].to_numpy().reshape(data2.shape[0], 1)"
      ]
    },
    {
      "cell_type": "code",
      "execution_count": 29,
      "metadata": {
        "id": "2EQ6I_9MBpjl"
      },
      "outputs": [],
      "source": [
        "# Split dataset to train, validation, test\n",
        "# Train : validation : test = 331 : 41 : 42\n",
        "x_train2, x_test2, y_train2, y_test2 = train_test_split(train_data_2, test_data_2, test_size=0.2)\n",
        "x_val2, x_test2, y_val2, y_test2 = train_test_split(x_test2, y_test2, test_size = 0.5)\n"
      ]
    },
    {
      "cell_type": "code",
      "source": [
        "# # Normalize train, validation, and test features\n",
        "x_train2_mean = np.zeros(x_train2.shape[1])\n",
        "x_train2_std = np.zeros(x_train2.shape[1])\n",
        "for i in range(1, x_train2.shape[1]):\n",
        "  x_train2_mean[i] = np.mean(x_train2[:,i])\n",
        "  x_train2_std[i] = np.std(x_train2[:,i])\n",
        "\n",
        "x_train2 = normalize(x_train2, x_train2_mean, x_train2_std)\n",
        "x_val2 = normalize(x_val2, x_train2_mean, x_train2_std)\n",
        "x_test2 = normalize(x_test2, x_train2_mean, x_train2_std)"
      ],
      "metadata": {
        "id": "F42-upxIe1FF"
      },
      "execution_count": 30,
      "outputs": []
    },
    {
      "cell_type": "code",
      "execution_count": 31,
      "metadata": {
        "id": "mxj33H1lP81x"
      },
      "outputs": [],
      "source": [
        "beta_hat2 = beta_hat_func(x_train2, y_train2)\n",
        "y_hat2 = np.matmul(x_test2, beta_hat2)"
      ]
    },
    {
      "cell_type": "code",
      "execution_count": 32,
      "metadata": {
        "colab": {
          "base_uri": "https://localhost:8080/"
        },
        "id": "QzWGlqgBqC1S",
        "outputId": "4511a6ca-5ac8-4820-956d-2d3ccfac837c"
      },
      "outputs": [
        {
          "output_type": "stream",
          "name": "stdout",
          "text": [
            "Mean squared error on training set:  80.25964571642803\n",
            "Mean squared error on test:  93.52494048953523\n"
          ]
        }
      ],
      "source": [
        "#MSE on training dataset\n",
        "y_hat_train = np.matmul(x_train2, beta_hat2)\n",
        "mse_train = mean_squared_error(y_hat_train, y_train2)\n",
        "print(\"Mean squared error on training set: \", mse_train)\n",
        "\n",
        "mse_plain2 = mean_squared_error(y_hat2, y_test2)\n",
        "print(\"Mean squared error on test: \", mse_plain2)"
      ]
    },
    {
      "cell_type": "markdown",
      "source": [
        "MSE of training set is smaller than MSE of test set. "
      ],
      "metadata": {
        "id": "HZqSiA76tehG"
      }
    },
    {
      "cell_type": "code",
      "execution_count": 33,
      "metadata": {
        "id": "gyraYC4IQaYD"
      },
      "outputs": [],
      "source": [
        "z_score2 = [0.0 for _ in range(len(features2))]\n",
        "x_squared2 = np.linalg.inv(np.matmul(np.transpose(x_train2), x_train2))\n",
        "N2 = x_train2.shape[0]\n",
        "p2 = x_train2.shape[1]\n",
        "var2 = 1/(N2-p2-1)*np.sum((y_test2 - y_hat2)**2)\n",
        "stdev2 = np.sqrt(var2)\n",
        "\n",
        "\n",
        "for i in range(len(z_score2)):\n",
        "  z_score2[i] = np.round(beta_hat2[i] / (stdev2*np.sqrt(x_squared2[i, i])), 2)  \n"
      ]
    },
    {
      "cell_type": "code",
      "execution_count": 34,
      "metadata": {
        "colab": {
          "base_uri": "https://localhost:8080/"
        },
        "id": "tz2OVs6gSJJ-",
        "outputId": "0007010c-bb05-4132-88f8-1eff20408238"
      },
      "outputs": [
        {
          "output_type": "stream",
          "name": "stdout",
          "text": [
            "Term                                    Coefficient      Std Error  Z Score\n",
            "--------------------------------------  -------------  -----------  ---------\n",
            "intercept                               [38.03927492]         0     [198.45]\n",
            "X1 transaction date                     [1.7377251]           0     [8.98]\n",
            "X2 house age                            [-3.15136494]         0.03  [-16.39]\n",
            "X3 distance to the nearest MRT station  [-5.39122665]         3.67  [-13.74]\n",
            "X4 number of convenience stores         [3.00393894]          0.01  [12.24]\n",
            "X5 latitude                             [2.82759341]          0     [11.79]\n",
            "X6 longitude                            [0.17573653]          0     [0.54]\n"
          ]
        }
      ],
      "source": [
        "table2 = [[\"Term\", \"Coefficient\", \"Std Error\", \"Z Score\"]]\n",
        "for i in range(len(features2)):\n",
        "  table2.append([features2[i], str(beta_hat2[i]), str(np.round(x_train2_std[i] / len(x_train2), 2)), str(z_score2[i])])\n",
        "print(tabulate(table2, headers='firstrow'))"
      ]
    },
    {
      "cell_type": "markdown",
      "metadata": {
        "id": "TJdeyGKFh73K"
      },
      "source": [
        "**Ridge Regression**"
      ]
    },
    {
      "cell_type": "code",
      "execution_count": 35,
      "metadata": {
        "id": "PjDPEUBAh-H0"
      },
      "outputs": [],
      "source": [
        "lambdas = list(np.logspace(-5, 4.5))\n",
        "# lambdas = [0.00001, 0.0001, 0.0005, 0.001, 0.01, 0.1, 1.0, 10]\n",
        "# lambdas = [1e-8, 1e-7, 1e-6, 0.00001, 0.0001, 1e-2, 0.1, 1]\n",
        "\n",
        "coefficients = np.zeros((x_train2.shape[1], len(lambdas)))\n",
        "min_lambda = 0\n",
        "min_rss_ridge = sys.float_info.max\n",
        "min_beta_ridge = 0\n",
        "\n",
        "for i, lamb in enumerate(lambdas):\n",
        "  beta_ridge_lamb = beta_hat_ridge(x_train2, y_train2, lamb)\n",
        "  rss_ridge_lamb = rss_ridge(x_val2, y_val2, beta_ridge_lamb, lamb)\n",
        "  coefficients[:, i] = np.transpose(beta_ridge_lamb)\n",
        "\n",
        "  # Pick lambda that makes RSS_ridge the smallest\n",
        "  if rss_ridge_lamb < min_rss_ridge:\n",
        "    min_rss_ridge = rss_ridge_lamb\n",
        "    min_lambda = lamb\n",
        "    min_beta_ridge = beta_ridge_lamb\n"
      ]
    },
    {
      "cell_type": "code",
      "execution_count": 36,
      "metadata": {
        "colab": {
          "base_uri": "https://localhost:8080/"
        },
        "id": "e1GZ7yAzruE9",
        "outputId": "31c24e62-d371-4b65-fbc6-317bdb8cea1a"
      },
      "outputs": [
        {
          "output_type": "stream",
          "name": "stdout",
          "text": [
            "MSE of Ridge Regression on training set:  80.25964571642943\n",
            "MSE of Ridge Regression on test set:  93.52494342216204\n"
          ]
        }
      ],
      "source": [
        "#MSE on training dataset\n",
        "y_hat_train = np.matmul(x_train2, min_beta_ridge) \n",
        "mse_ridge_train = mean_squared_error(y_train2, y_hat_train)\n",
        "\n",
        "print(\"MSE of Ridge Regression on training set: \", mse_ridge_train)\n",
        "\n",
        "#MSE on test dataset\n",
        "y_hat = np.matmul(x_test2, min_beta_ridge) \n",
        "mse_ridge = mean_squared_error(y_test2, y_hat)\n",
        "\n",
        "print(\"MSE of Ridge Regression on test set: \", mse_ridge)"
      ]
    },
    {
      "cell_type": "code",
      "execution_count": 37,
      "metadata": {
        "colab": {
          "base_uri": "https://localhost:8080/",
          "height": 295
        },
        "id": "OANpH5ZfikKB",
        "outputId": "92ecf637-ef2b-4fdb-edb8-dcefb15901dd"
      },
      "outputs": [
        {
          "output_type": "display_data",
          "data": {
            "text/plain": [
              "<Figure size 432x288 with 1 Axes>"
            ],
            "image/png": "[encoded data removed]"
          },
          "metadata": {
            "needs_background": "light"
          }
        }
      ],
      "source": [
        "# Plot of ridge coefficients against lambda\n",
        "ax=plt.gca()\n",
        "for i in range(1, len(coefficients)):\n",
        "  ax.plot(lambdas, coefficients[i, :], label=str(features2[i]))\n",
        "  \n",
        "plt.axvline(x = min_lambda, color = 'b', label = 'best lambda')\n",
        "ax.legend(loc='center left', bbox_to_anchor=(1, 0.5))\n",
        "ax.invert_xaxis()\n",
        "\n",
        "plt.xlabel(\"lambda\")\n",
        "plt.ylabel(\"coefficients\")\n",
        "plt.title(\"Plot of ridge coefficients with varying lambda\")\n",
        "plt.show()"
      ]
    },
    {
      "cell_type": "markdown",
      "source": [
        "It appears from the plot that number of convenience stores and latitude are important to unit house price and distance to the nearest mrt station is the least important."
      ],
      "metadata": {
        "id": "maJ-QDWwppiP"
      }
    },
    {
      "cell_type": "markdown",
      "metadata": {
        "id": "LN5C4KrVCIZL"
      },
      "source": [
        "**Lasso Regression**"
      ]
    },
    {
      "cell_type": "code",
      "execution_count": 38,
      "metadata": {
        "id": "i-f6mtF6CFNk"
      },
      "outputs": [],
      "source": [
        "# Loop through multiple lambdas and select lambda that minimizes RSS\n",
        "lambdas = list(np.logspace(-5, 1))\n",
        "\n",
        "# lambdas = [0.00001, 0.0001, 0.0005, 0.001, 0.01, 0.1, 1.0, 10, 1000]\n",
        "\n",
        "min_lambda_lasso2 = 0\n",
        "min_mse_lasso2 = sys.float_info.max\n",
        "models2 = []\n",
        "coefficients_lasso2 = np.zeros((x_train2.shape[1], len(lambdas)))\n",
        "\n",
        "for i, lamb in enumerate(lambdas):\n",
        "  lasso_model2 = linear_model.Lasso(alpha=lamb)\n",
        "  lasso_model2.fit(x_train2, y_train2)\n",
        "  coefficients_lasso2[:, i] =  np.transpose(lasso_model2.coef_) # bad practice?\n",
        "  mse_lasso2 = mean_squared_error(lasso_model2.predict(x_val2), y_val2) \n",
        "  if mse_lasso2 < min_mse_lasso2:\n",
        "    min_lambda_lasso2 = lamb\n",
        "    min_mse_lasso2 = mse_lasso2\n",
        "    models2.append(lasso_model2)"
      ]
    },
    {
      "cell_type": "code",
      "execution_count": 39,
      "metadata": {
        "id": "JE0V89B-C8G3"
      },
      "outputs": [],
      "source": [
        "lasso_model_test2 = models2[0]\n",
        "y_hat2 = lasso_model_test2.predict(x_test2)"
      ]
    },
    {
      "cell_type": "code",
      "execution_count": 40,
      "metadata": {
        "colab": {
          "base_uri": "https://localhost:8080/"
        },
        "id": "tUs3gHHesSiP",
        "outputId": "bd144f61-a69b-42d5-d603-7590ba38295d"
      },
      "outputs": [
        {
          "output_type": "stream",
          "name": "stdout",
          "text": [
            "MSE of Lasso Regression on train dataset: 80.25964571774605\n",
            "MSE of Lasso Regression on test dataset: 93.52493092073587\n"
          ]
        }
      ],
      "source": [
        "#MSE on training dataset\n",
        "y_hat2_train = lasso_model_test2.predict(x_train2)\n",
        "mse_lasso2_train = mean_squared_error(y_hat2_train, y_train2)\n",
        "print(\"MSE of Lasso Regression on train dataset: \" + str(mse_lasso2_train))\n",
        "\n",
        "mse_lasso2 = mean_squared_error(y_hat2, y_test2)\n",
        "\n",
        "print(\"MSE of Lasso Regression on test dataset: \" + str(mse_lasso2))"
      ]
    },
    {
      "cell_type": "markdown",
      "metadata": {
        "id": "JpAXKpXr5-WU"
      },
      "source": [
        "MSE of Lasso regression on train is smaller than that of test. MSE is generally greater than that of prostate data and I assume that is due to the fact that real estate price is not as linear as prostate data"
      ]
    },
    {
      "cell_type": "code",
      "execution_count": 41,
      "metadata": {
        "colab": {
          "base_uri": "https://localhost:8080/",
          "height": 295
        },
        "id": "8MUnILS0DD5P",
        "outputId": "61f88d3e-022e-49d5-d2a7-07f42678c443"
      },
      "outputs": [
        {
          "output_type": "display_data",
          "data": {
            "text/plain": [
              "<Figure size 432x288 with 1 Axes>"
            ],
            "image/png": "[encoded data removed]"
          },
          "metadata": {
            "needs_background": "light"
          }
        }
      ],
      "source": [
        "# Plot Lasso coefficients\n",
        "ax=plt.gca()\n",
        "for i in range(1, len(features2)):\n",
        "  plt.plot(lambdas, coefficients_lasso2[i,:], label=features2[i])\n",
        "plt.axvline(x = min_lambda_lasso, color = 'b', label = 'best lambda')\n",
        "ax.invert_xaxis()\n",
        "plt.legend(loc='center left', bbox_to_anchor=(1, 0.5))\n",
        "plt.xlabel(\"Lasso lambda\")\n",
        "# plt.ylim(-1,5)\n",
        "plt.ylabel(\"Lasso coefficients\")\n",
        "plt.title(\"Plot of Lasso coefficients with varying lambda\")\n",
        "plt.show()"
      ]
    },
    {
      "cell_type": "markdown",
      "metadata": {
        "id": "Z36bd9_yoTvb"
      },
      "source": [
        "Of the features sets of real estate price prediction, the Lasso coefficient was the largest for latitude, transaction date, and number of convenience stores. It makes sense that the number of convenience stores and transaction date affect unit house price because more convenience stores nearby means popular area and there can be market price change in real estates at different times. However, it is not very intuitive that latitude affects unit house price the most. This can due to the fact that real estate price is not always linear and is affected by many other factors."
      ]
    },
    {
      "cell_type": "code",
      "execution_count": 42,
      "metadata": {
        "id": "p4SDh8--78bs"
      },
      "outputs": [],
      "source": [
        "# Interactive terms of longitude and latitute for training data\n",
        "int_term1 = (x_train2[:,-2] * x_train2[:,-1]).reshape(x_train2.shape[0], 1)\n",
        "\n",
        "# Interactive terms of longitude and number of convenience stores for training data\n",
        "int_term2 = (x_train2[:,4] * x_train2[:,-1]).reshape(x_train2.shape[0], 1)\n",
        "\n",
        "train_data_2_int = np.concatenate((x_train2, int_term1, int_term2), axis=1)"
      ]
    },
    {
      "cell_type": "code",
      "execution_count": 43,
      "metadata": {
        "id": "eqqm28NNAMiV"
      },
      "outputs": [],
      "source": [
        "# Interactive terms of longitude and latitute for test data\n",
        "int_term1_test = (x_test2[:,-2] * x_test2[:,-1]).reshape(x_test2.shape[0], 1)\n",
        "\n",
        "# Interactive terms of longitude and number of convenience stores for test data\n",
        "int_term2_test = (x_test2[:,4] * x_test2[:,-1]).reshape(x_test2.shape[0], 1)\n",
        "\n",
        "test_data_2_int = np.concatenate((x_test2, int_term1_test, int_term2_test), axis=1)"
      ]
    },
    {
      "cell_type": "code",
      "execution_count": 44,
      "metadata": {
        "colab": {
          "base_uri": "https://localhost:8080/"
        },
        "id": "5gxnYJ1k8gqx",
        "outputId": "3e7d2dd6-023b-437a-a788-a8d332299d31"
      },
      "outputs": [
        {
          "output_type": "stream",
          "name": "stderr",
          "text": [
            "/usr/local/lib/python3.7/dist-packages/sklearn/linear_model/_coordinate_descent.py:1571: DataConversionWarning: A column-vector y was passed when a 1d array was expected. Please change the shape of y to (n_samples, ), for example using ravel().\n",
            "  y = column_or_1d(y, warn=True)\n"
          ]
        },
        {
          "output_type": "stream",
          "name": "stdout",
          "text": [
            "MSE of Lasso with interactive term of test data: 77.67479973435394\n",
            "MSE of Lasso with interactive term of training data: 70.11381294401812\n"
          ]
        }
      ],
      "source": [
        "from sklearn.linear_model import LassoCV\n",
        "\n",
        "lasso_int = LassoCV(cv=5, n_alphas=500).fit(train_data_2_int, y_train2)\n",
        "y_hat = lasso_int.predict(test_data_2_int)\n",
        "y_hat_train = lasso_int.predict(train_data_2_int)\n",
        "\n",
        "mse_lasso_int = mean_squared_error(y_hat, y_test2)\n",
        "mse_lasso_int_train = mean_squared_error(y_hat_train, y_train2)\n",
        "\n",
        "print(\"MSE of Lasso with interactive term of test data: \" + str(mse_lasso_int))\n",
        "print(\"MSE of Lasso with interactive term of training data: \" + str(mse_lasso_int_train))"
      ]
    },
    {
      "cell_type": "markdown",
      "metadata": {
        "id": "sSvPi4UcA04X"
      },
      "source": [
        "The variables to participate in interactive terms are chosen based on the correlation table of predictors we got from plain linear regression. The correlation was the largest for longitude and latitude and for longitude and number of convenience stores so they were used as nonlinear interactive terms. These terms were \"appended\" at the end of the dataset and fed into Lasso model just like plain Lasso regression. \n",
        "\n",
        "The result showed that the test error reduced by almost 30 percent compared to the test error of plain Lasso regression. However, it has to be noted that the features were normalized when using interactive terms because the values might get too high during multiplication. Adding nonlinear interactive terms did improve the performance. "
      ]
    }
  ],
  "metadata": {
    "colab": {
      "collapsed_sections": [],
      "provenance": []
    },
    "kernelspec": {
      "display_name": "Python 3",
      "name": "python3"
    },
    "language_info": {
      "name": "python"
    }
  },
  "nbformat": 4,
  "nbformat_minor": 0
}